{
 "cells": [
  {
   "cell_type": "code",
   "execution_count": 1,
   "metadata": {},
   "outputs": [],
   "source": [
    "import os\n",
    "import torch\n",
    "from torch import nn, optim\n",
    "from torch.utils.data import DataLoader, random_split\n",
    "from torchvision.models import resnet50, ResNet50_Weights\n",
    "from torchvision.transforms import Compose, Resize, ToTensor, Normalize\n",
    "from torchvision.datasets import ImageFolder\n",
    "\n",
    "device = torch.device(\"cuda\" if torch.cuda.is_available() else \"mps\" if torch.backends.mps.is_available() else \"cpu\")\n",
    "\n",
    "IMAGE_DIR = os.path.expanduser(\"~/Code/geo/data\")\n",
    "SAVE_DIR = os.path.expanduser(\"./saves\")\n",
    "MODEL_FILE = os.path.join(SAVE_DIR, \"weights.pth\")"
   ]
  },
  {
   "cell_type": "code",
   "execution_count": 2,
   "metadata": {},
   "outputs": [],
   "source": [
    "transform = Compose([\n",
    "\tResize((224, 224)),\n",
    "\tToTensor(),\n",
    "\tNormalize([0.485, 0.456, 0.406], [0.229, 0.224, 0.225])\n",
    "])\n",
    "\n",
    "dataset = ImageFolder(IMAGE_DIR, transform=transform)\n",
    "n, k = len(dataset), len(dataset.classes)\n",
    "train_dataset, val_dataset = random_split(dataset, [int(0.8 * n), n - int(0.8 * n)])\n",
    "train_loader, val_loader = DataLoader(train_dataset, batch_size=32, shuffle=True), DataLoader(val_dataset, batch_size=32)\n",
    "\n",
    "model = resnet50(weights=ResNet50_Weights.DEFAULT)\n",
    "model.fc = nn.Linear(model.fc.in_features, k)\n",
    "model.to(device)\n",
    "\n",
    "criterion = nn.CrossEntropyLoss()\n",
    "optimizer = optim.Adam(model.parameters(), lr=1e-4)\n",
    "\n",
    "def train(epochs=2):\n",
    "\tif not os.path.exists(SAVE_DIR): os.makedirs(SAVE_DIR)\n",
    "\tfor epoch in range(epochs):\n",
    "\t\tmodel.train()\n",
    "\t\tfor images, labels in train_loader:\n",
    "\t\t\timages, labels = images.to(device), labels.to(device)\n",
    "\t\t\toptimizer.zero_grad()\n",
    "\t\t\tloss = criterion(model(images), labels)\n",
    "\t\t\tloss.backward()\n",
    "\t\t\toptimizer.step()\n",
    "\t\tprint(f\"Epoch {epoch+1}: Loss = {loss.item()}\")\n",
    "\ttorch.save(model.state_dict(), MODEL_FILE)\n",
    "\n",
    "def evaluate():\n",
    "\tmodel.load_state_dict(torch.load(MODEL_FILE, map_location=device))\n",
    "\tmodel.eval()\n",
    "\tcorrect = 0\n",
    "\ttotal = 0\n",
    "\twith torch.no_grad():\n",
    "\t\tfor images, labels in val_loader:\n",
    "\t\t\timages, labels = images.to(device), labels.to(device)\n",
    "\t\t\t_, predicted = torch.max(model(images), 1)\n",
    "\t\t\tcorrect += (predicted == labels).sum().item()\n",
    "\t\t\ttotal += labels.size(0)\n",
    "\tprint(f\"Validation Accuracy: {100 * correct / total:.2f}%\")"
   ]
  },
  {
   "cell_type": "code",
   "execution_count": 3,
   "metadata": {},
   "outputs": [
    {
     "name": "stdout",
     "output_type": "stream",
     "text": [
      "Epoch 1: Loss = 0.6334580183029175\n",
      "Epoch 2: Loss = 0.5084250569343567\n",
      "Validation Accuracy: 90.00%\n"
     ]
    }
   ],
   "source": [
    "train()\n",
    "evaluate()"
   ]
  }
 ],
 "metadata": {
  "kernelspec": {
   "display_name": "Jupyter",
   "language": "python",
   "name": "jupyter"
  },
  "language_info": {
   "codemirror_mode": {
    "name": "ipython",
    "version": 3
   },
   "file_extension": ".py",
   "mimetype": "text/x-python",
   "name": "python",
   "nbconvert_exporter": "python",
   "pygments_lexer": "ipython3",
   "version": "3.11.5"
  }
 },
 "nbformat": 4,
 "nbformat_minor": 2
}
